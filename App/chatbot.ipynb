{
  "cells": [
    {
      "cell_type": "code",
      "execution_count": null,
      "metadata": {
        "id": "JNk7E30IPyqD"
      },
      "outputs": [],
      "source": [
        "# !pip install langchain\n",
        "# !pip install PyMuPDF\n",
        "# !pip install openai\n",
        "# !pip install chromadb\n",
        "# !pip install tiktoken\n"
      ]
    },
    {
      "cell_type": "code",
      "execution_count": null,
      "metadata": {
        "id": "4mP1BbwmQS1T"
      },
      "outputs": [],
      "source": [
        "import os\n",
        "# from langchain.document_loaders import PyMuPDFLoader\n",
        "from langchain.document_loaders import TextLoader\n",
        "from langchain.text_splitter import RecursiveCharacterTextSplitter\n",
        "from langchain.vectorstores import Chroma\n",
        "from langchain.embeddings import OpenAIEmbeddings\n",
        "from langchain.chat_models import ChatOpenAI\n",
        "from langchain.chains import RetrievalQA"
      ]
    },
    {
      "cell_type": "code",
      "execution_count": null,
      "metadata": {
        "id": "-bYDvwlzP--j"
      },
      "outputs": [],
      "source": [
        "# API Key OpenAI\n",
        "os.environ[\"OPENAI_API_KEY\"] = 'YOUR OPEN AI API KEY'"
      ]
    },
    {
      "cell_type": "code",
      "execution_count": null,
      "metadata": {
        "id": "Ou52KOOZQKLz"
      },
      "outputs": [],
      "source": [
        "persist_directory = \"./storage\"\n",
        "# pdf_path = \"for PDF File\""
      ]
    },
    {
      "cell_type": "code",
      "execution_count": null,
      "metadata": {
        "id": "Hxe2O1IKRZnK"
      },
      "outputs": [],
      "source": [
        "# loader = PyMuPDFLoader(pdf_path) //For PDF file\n",
        "# documents = loader.load()\n",
        "loader = TextLoader(\"YOUR TXT FILE\" , encoding='utf-8')\n",
        "documents = loader.load()"
      ]
    },
    {
      "cell_type": "code",
      "execution_count": null,
      "metadata": {
        "id": "uaR8vtBIR-jX"
      },
      "outputs": [],
      "source": [
        "text_splitter = RecursiveCharacterTextSplitter(chunk_size=512, chunk_overlap=10)\n",
        "texts = text_splitter.split_documents(documents)\n"
      ]
    },
    {
      "cell_type": "code",
      "execution_count": null,
      "metadata": {
        "id": "7tPI9LbbSJ0n"
      },
      "outputs": [],
      "source": [
        "embeddings = OpenAIEmbeddings()\n",
        "vectordb = Chroma.from_documents(documents=texts, embedding=embeddings, persist_directory=persist_directory)\n",
        "vectordb.persist()"
      ]
    },
    {
      "cell_type": "code",
      "execution_count": null,
      "metadata": {
        "id": "2iYD1K8OSSdW"
      },
      "outputs": [],
      "source": [
        "retriever = vectordb.as_retriever(search_kwargs={\"k\": 3})\n",
        "llm = ChatOpenAI(model_name='gpt-3.5-turbo')"
      ]
    },
    {
      "cell_type": "code",
      "execution_count": null,
      "metadata": {
        "id": "C_ki68ISTSZj"
      },
      "outputs": [],
      "source": [
        "qa = RetrievalQA.from_chain_type(llm=llm, chain_type=\"stuff\", retriever=retriever)"
      ]
    },
    {
      "cell_type": "code",
      "execution_count": null,
      "metadata": {
        "colab": {
          "base_uri": "https://localhost:8080/"
        },
        "id": "HNaG3prQTeXG",
        "outputId": "df8d2195-3bb6-4ef8-ce1f-88b26cf5c139"
      },
      "outputs": [],
      "source": [
        "while True:\n",
        "        user_input = input(\"Enter a query: \")\n",
        "        print(\"Query: \", user_input)\n",
        "        if user_input == \"exit\":\n",
        "            print('It was a pleasure engaging in conversation with you. Thank you and take care.')\n",
        "            break\n",
        "\n",
        "        if not user_input:\n",
        "            print(\"I am at your service, and I kindly await your query.\")\n",
        "            continue\n",
        "             \n",
        "        query = f\"###Prompt {user_input}\"\n",
        "        try:\n",
        "            llm_response = qa(query)\n",
        "            print(llm_response[\"result\"])\n",
        "        \n",
        "        except Exception as err:\n",
        "            print('Exception occurred. Please try again', str(err))"
      ]
    },
    {
      "cell_type": "code",
      "execution_count": null,
      "metadata": {
        "id": "NSQVNfu6wIWH"
      },
      "outputs": [],
      "source": []
    },
    {
      "cell_type": "code",
      "execution_count": null,
      "metadata": {
        "id": "BgX0vDcLnEQq"
      },
      "outputs": [],
      "source": []
    },
    {
      "cell_type": "code",
      "execution_count": null,
      "metadata": {},
      "outputs": [],
      "source": []
    },
    {
      "cell_type": "code",
      "execution_count": null,
      "metadata": {},
      "outputs": [],
      "source": []
    }
  ],
  "metadata": {
    "colab": {
      "gpuType": "T4",
      "provenance": []
    },
    "kernelspec": {
      "display_name": "Python 3",
      "name": "python3"
    },
    "language_info": {
      "codemirror_mode": {
        "name": "ipython",
        "version": 3
      },
      "file_extension": ".py",
      "mimetype": "text/x-python",
      "name": "python",
      "nbconvert_exporter": "python",
      "pygments_lexer": "ipython3",
      "version": "3.11.4"
    }
  },
  "nbformat": 4,
  "nbformat_minor": 0
}
